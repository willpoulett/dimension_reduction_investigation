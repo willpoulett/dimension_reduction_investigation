{
 "cells": [
  {
   "cell_type": "markdown",
   "metadata": {},
   "source": [
    "Load required modules and libraries."
   ]
  },
  {
   "cell_type": "code",
   "execution_count": 1,
   "metadata": {},
   "outputs": [],
   "source": [
    "import os, glob\n",
    "import numpy as np\n",
    "import pandas as pd\n",
    "import matplotlib.pyplot as plt\n",
    "import tensorflow as tf\n",
    "import matplotlib.colors as mcolors\n",
    "from sklearn.manifold import TSNE\n",
    "import matplotlib.pyplot as plt\n",
    "from sklearn.model_selection import train_test_split\n",
    "from tensorflow import keras\n",
    "from keras.preprocessing import image\n",
    "from keras import utils\n",
    "from sklearn.preprocessing import LabelEncoder\n",
    "from sklearn.metrics import ConfusionMatrixDisplay\n",
    "from sklearn.metrics import f1_score\n",
    "\n",
    "# Load from functions.py\n",
    "from functions import load_data, make_predictions, create_mixup_images, find_boundary_points"
   ]
  },
  {
   "cell_type": "markdown",
   "metadata": {},
   "source": [
    "Global Parameters"
   ]
  },
  {
   "cell_type": "code",
   "execution_count": 2,
   "metadata": {},
   "outputs": [],
   "source": [
    "MUBA_ITERS = 3"
   ]
  },
  {
   "cell_type": "markdown",
   "metadata": {},
   "source": [
    "Get and sort testing data"
   ]
  },
  {
   "cell_type": "code",
   "execution_count": 3,
   "metadata": {},
   "outputs": [
    {
     "name": "stdout",
     "output_type": "stream",
     "text": [
      "Classes are ['no' 'yes']\n"
     ]
    }
   ],
   "source": [
    "files, labels, images = load_data()   "
   ]
  },
  {
   "cell_type": "markdown",
   "metadata": {},
   "source": [
    "Load the full classifier, and classifier with final hidden layer activations"
   ]
  },
  {
   "cell_type": "code",
   "execution_count": 4,
   "metadata": {},
   "outputs": [],
   "source": [
    "model_A = keras.models.load_model(\"71%.h5\")\n",
    "\n",
    "# Load model with final hidden layer activations\n",
    "temp_model = tf.keras.Model(model_A.input,model_A.layers[-2].output)"
   ]
  },
  {
   "cell_type": "markdown",
   "metadata": {},
   "source": [
    "Test the model on test data"
   ]
  },
  {
   "cell_type": "code",
   "execution_count": 5,
   "metadata": {},
   "outputs": [
    {
     "name": "stdout",
     "output_type": "stream",
     "text": [
      "2/2 [==============================] - 4s 483ms/step\n",
      "2/2 [==============================] - 4s 487ms/step\n"
     ]
    }
   ],
   "source": [
    "final_layers, predictions, pred_array = make_predictions(images, model_A, temp_model)\n"
   ]
  },
  {
   "cell_type": "code",
   "execution_count": 6,
   "metadata": {},
   "outputs": [],
   "source": [
    "labels = [label[1] for label in labels] # 0 if no tumour, 1 if yes tumour\n",
    "\n",
    "initial_df = pd.DataFrame()\n",
    "initial_df[\"class\"] = labels # 0 if no tumour, 1 if there is a tumour\n",
    "initial_df[\"image_index\"] = [i for i in range(len(images))]\n",
    "initial_df[\"confidence_class_0\"] = [alpha[0] for alpha in predictions]\n",
    "initial_df[\"confidence_class_1\"] = [alpha[1] for alpha in predictions]"
   ]
  },
  {
   "cell_type": "code",
   "execution_count": 7,
   "metadata": {},
   "outputs": [],
   "source": [
    "class_zero_df = initial_df[initial_df[\"class\"] == 0] # no tumour\n",
    "class_one_df = initial_df[initial_df[\"class\"] == 1]\n",
    "class_one_length = len(class_one_df)\n",
    "class_zero_length = len(class_zero_df)"
   ]
  },
  {
   "cell_type": "code",
   "execution_count": 8,
   "metadata": {},
   "outputs": [
    {
     "data": {
      "text/html": [
       "<div>\n",
       "<style scoped>\n",
       "    .dataframe tbody tr th:only-of-type {\n",
       "        vertical-align: middle;\n",
       "    }\n",
       "\n",
       "    .dataframe tbody tr th {\n",
       "        vertical-align: top;\n",
       "    }\n",
       "\n",
       "    .dataframe thead th {\n",
       "        text-align: right;\n",
       "    }\n",
       "</style>\n",
       "<table border=\"1\" class=\"dataframe\">\n",
       "  <thead>\n",
       "    <tr style=\"text-align: right;\">\n",
       "      <th></th>\n",
       "      <th>class</th>\n",
       "      <th>image_index</th>\n",
       "      <th>confidence_class_0</th>\n",
       "      <th>confidence_class_1</th>\n",
       "    </tr>\n",
       "  </thead>\n",
       "  <tbody>\n",
       "    <tr>\n",
       "      <th>2</th>\n",
       "      <td>1</td>\n",
       "      <td>2</td>\n",
       "      <td>0.217581</td>\n",
       "      <td>0.782419</td>\n",
       "    </tr>\n",
       "    <tr>\n",
       "      <th>4</th>\n",
       "      <td>1</td>\n",
       "      <td>4</td>\n",
       "      <td>0.236064</td>\n",
       "      <td>0.763936</td>\n",
       "    </tr>\n",
       "    <tr>\n",
       "      <th>5</th>\n",
       "      <td>1</td>\n",
       "      <td>5</td>\n",
       "      <td>0.135589</td>\n",
       "      <td>0.864411</td>\n",
       "    </tr>\n",
       "    <tr>\n",
       "      <th>6</th>\n",
       "      <td>1</td>\n",
       "      <td>6</td>\n",
       "      <td>0.101894</td>\n",
       "      <td>0.898106</td>\n",
       "    </tr>\n",
       "    <tr>\n",
       "      <th>7</th>\n",
       "      <td>1</td>\n",
       "      <td>7</td>\n",
       "      <td>0.488625</td>\n",
       "      <td>0.511375</td>\n",
       "    </tr>\n",
       "  </tbody>\n",
       "</table>\n",
       "</div>"
      ],
      "text/plain": [
       "   class  image_index  confidence_class_0  confidence_class_1\n",
       "2      1            2            0.217581            0.782419\n",
       "4      1            4            0.236064            0.763936\n",
       "5      1            5            0.135589            0.864411\n",
       "6      1            6            0.101894            0.898106\n",
       "7      1            7            0.488625            0.511375"
      ]
     },
     "execution_count": 8,
     "metadata": {},
     "output_type": "execute_result"
    }
   ],
   "source": [
    "class_one_df.head()"
   ]
  },
  {
   "cell_type": "markdown",
   "metadata": {},
   "source": [
    "Create mixup data"
   ]
  },
  {
   "cell_type": "code",
   "execution_count": 9,
   "metadata": {},
   "outputs": [],
   "source": [
    "muba_df = create_mixup_images(class_one_df,class_zero_df,images,MUBA_ITERS)"
   ]
  },
  {
   "cell_type": "markdown",
   "metadata": {},
   "source": [
    "Make predictions on mixup data."
   ]
  },
  {
   "cell_type": "code",
   "execution_count": 10,
   "metadata": {},
   "outputs": [
    {
     "name": "stdout",
     "output_type": "stream",
     "text": [
      "34/34 [==============================] - 66s 2s/step\n",
      "34/34 [==============================] - 66s 2s/step\n"
     ]
    }
   ],
   "source": [
    "muba_final_layers, muba_prediction, muba_prediction_proper = make_predictions(muba_df[\"mixup_image\"], model_A, temp_model)"
   ]
  },
  {
   "cell_type": "code",
   "execution_count": 11,
   "metadata": {},
   "outputs": [],
   "source": [
    "muba_df[\"argmax_pred\"] = muba_prediction_proper # Adds predictions to muba dataframe"
   ]
  },
  {
   "cell_type": "code",
   "execution_count": 12,
   "metadata": {},
   "outputs": [
    {
     "data": {
      "text/html": [
       "<div>\n",
       "<style scoped>\n",
       "    .dataframe tbody tr th:only-of-type {\n",
       "        vertical-align: middle;\n",
       "    }\n",
       "\n",
       "    .dataframe tbody tr th {\n",
       "        vertical-align: top;\n",
       "    }\n",
       "\n",
       "    .dataframe thead th {\n",
       "        text-align: right;\n",
       "    }\n",
       "</style>\n",
       "<table border=\"1\" class=\"dataframe\">\n",
       "  <thead>\n",
       "    <tr style=\"text-align: right;\">\n",
       "      <th></th>\n",
       "      <th>alpha_class_0</th>\n",
       "      <th>alpha_class_1</th>\n",
       "      <th>image_0</th>\n",
       "      <th>image_1</th>\n",
       "      <th>mixup_image</th>\n",
       "      <th>type</th>\n",
       "      <th>label</th>\n",
       "      <th>argmax_pred</th>\n",
       "    </tr>\n",
       "  </thead>\n",
       "  <tbody>\n",
       "    <tr>\n",
       "      <th>0</th>\n",
       "      <td>0.328671</td>\n",
       "      <td>0.671329</td>\n",
       "      <td>[[[0.0, 0.0, 0.0], [0.0, 0.0, 0.0], [0.0, 0.0,...</td>\n",
       "      <td>[[[0.0, 0.0, 0.0], [0.0, 0.0, 0.0], [0.0, 0.0,...</td>\n",
       "      <td>[[[0.0, 0.0, 0.0], [0.0, 0.0, 0.0], [0.0, 0.0,...</td>\n",
       "      <td>mix</td>\n",
       "      <td>1</td>\n",
       "      <td>1</td>\n",
       "    </tr>\n",
       "    <tr>\n",
       "      <th>1</th>\n",
       "      <td>0.632549</td>\n",
       "      <td>0.367451</td>\n",
       "      <td>[[[0.0, 0.0, 0.0], [0.0, 0.0, 0.0], [0.0, 0.0,...</td>\n",
       "      <td>[[[0.0, 0.0, 0.0], [0.0, 0.0, 0.0], [0.0, 0.0,...</td>\n",
       "      <td>[[[0.0, 0.0, 0.0], [0.0, 0.0, 0.0], [0.0, 0.0,...</td>\n",
       "      <td>mix</td>\n",
       "      <td>0</td>\n",
       "      <td>1</td>\n",
       "    </tr>\n",
       "    <tr>\n",
       "      <th>2</th>\n",
       "      <td>0.847557</td>\n",
       "      <td>0.152443</td>\n",
       "      <td>[[[0.0, 0.0, 0.0], [0.0, 0.0, 0.0], [0.0, 0.0,...</td>\n",
       "      <td>[[[0.0, 0.0, 0.0], [0.0, 0.0, 0.0], [0.0, 0.0,...</td>\n",
       "      <td>[[[0.0, 0.0, 0.0], [0.0, 0.0, 0.0], [0.0, 0.0,...</td>\n",
       "      <td>mix</td>\n",
       "      <td>0</td>\n",
       "      <td>1</td>\n",
       "    </tr>\n",
       "    <tr>\n",
       "      <th>3</th>\n",
       "      <td>0.076183</td>\n",
       "      <td>0.923817</td>\n",
       "      <td>[[[0.0, 0.0, 0.0], [0.0, 0.0, 0.0], [0.0, 0.0,...</td>\n",
       "      <td>[[[16.0, 16.0, 16.0], [16.0, 16.0, 16.0], [16....</td>\n",
       "      <td>[[[14.781075, 14.781075, 14.781075], [14.78107...</td>\n",
       "      <td>mix</td>\n",
       "      <td>1</td>\n",
       "      <td>1</td>\n",
       "    </tr>\n",
       "    <tr>\n",
       "      <th>4</th>\n",
       "      <td>0.486311</td>\n",
       "      <td>0.513689</td>\n",
       "      <td>[[[0.0, 0.0, 0.0], [0.0, 0.0, 0.0], [0.0, 0.0,...</td>\n",
       "      <td>[[[16.0, 16.0, 16.0], [16.0, 16.0, 16.0], [16....</td>\n",
       "      <td>[[[8.21902, 8.21902, 8.21902], [8.21902, 8.219...</td>\n",
       "      <td>mix</td>\n",
       "      <td>1</td>\n",
       "      <td>1</td>\n",
       "    </tr>\n",
       "  </tbody>\n",
       "</table>\n",
       "</div>"
      ],
      "text/plain": [
       "   alpha_class_0  alpha_class_1  \\\n",
       "0       0.328671       0.671329   \n",
       "1       0.632549       0.367451   \n",
       "2       0.847557       0.152443   \n",
       "3       0.076183       0.923817   \n",
       "4       0.486311       0.513689   \n",
       "\n",
       "                                             image_0  \\\n",
       "0  [[[0.0, 0.0, 0.0], [0.0, 0.0, 0.0], [0.0, 0.0,...   \n",
       "1  [[[0.0, 0.0, 0.0], [0.0, 0.0, 0.0], [0.0, 0.0,...   \n",
       "2  [[[0.0, 0.0, 0.0], [0.0, 0.0, 0.0], [0.0, 0.0,...   \n",
       "3  [[[0.0, 0.0, 0.0], [0.0, 0.0, 0.0], [0.0, 0.0,...   \n",
       "4  [[[0.0, 0.0, 0.0], [0.0, 0.0, 0.0], [0.0, 0.0,...   \n",
       "\n",
       "                                             image_1  \\\n",
       "0  [[[0.0, 0.0, 0.0], [0.0, 0.0, 0.0], [0.0, 0.0,...   \n",
       "1  [[[0.0, 0.0, 0.0], [0.0, 0.0, 0.0], [0.0, 0.0,...   \n",
       "2  [[[0.0, 0.0, 0.0], [0.0, 0.0, 0.0], [0.0, 0.0,...   \n",
       "3  [[[16.0, 16.0, 16.0], [16.0, 16.0, 16.0], [16....   \n",
       "4  [[[16.0, 16.0, 16.0], [16.0, 16.0, 16.0], [16....   \n",
       "\n",
       "                                         mixup_image type label  argmax_pred  \n",
       "0  [[[0.0, 0.0, 0.0], [0.0, 0.0, 0.0], [0.0, 0.0,...  mix     1            1  \n",
       "1  [[[0.0, 0.0, 0.0], [0.0, 0.0, 0.0], [0.0, 0.0,...  mix     0            1  \n",
       "2  [[[0.0, 0.0, 0.0], [0.0, 0.0, 0.0], [0.0, 0.0,...  mix     0            1  \n",
       "3  [[[14.781075, 14.781075, 14.781075], [14.78107...  mix     1            1  \n",
       "4  [[[8.21902, 8.21902, 8.21902], [8.21902, 8.219...  mix     1            1  "
      ]
     },
     "execution_count": 12,
     "metadata": {},
     "output_type": "execute_result"
    }
   ],
   "source": [
    "muba_df.head()"
   ]
  },
  {
   "cell_type": "markdown",
   "metadata": {},
   "source": [
    "Find boundary points and add them to dataframe."
   ]
  },
  {
   "cell_type": "code",
   "execution_count": null,
   "metadata": {},
   "outputs": [],
   "source": [
    "boundary_points_df = find_boundary_points(muba_df, MUBA_ITERS)"
   ]
  },
  {
   "cell_type": "markdown",
   "metadata": {},
   "source": [
    "Make predictions to the boundary points"
   ]
  },
  {
   "cell_type": "code",
   "execution_count": null,
   "metadata": {},
   "outputs": [],
   "source": [
    "boundary_final_layers, boundary_prediction, boundary_prediction_proper = make_predictions(boundary_points_df[\"mixup_image\"], model_A, temp_model)\n",
    "boundary_points_df[\"argmax_pred\"] = boundary_prediction_proper"
   ]
  },
  {
   "cell_type": "markdown",
   "metadata": {},
   "source": [
    "Join the mixup data and test data together, so that t-SNE can be applied to all data at once."
   ]
  },
  {
   "cell_type": "code",
   "execution_count": null,
   "metadata": {},
   "outputs": [],
   "source": [
    "muba_df = pd.concat([muba_df,boundary_points_df],axis=0,ignore_index=True)"
   ]
  },
  {
   "cell_type": "code",
   "execution_count": null,
   "metadata": {},
   "outputs": [],
   "source": [
    "for image,label,pred in zip(images,labels,pred_array):\n",
    "    row = pd.DataFrame([({ \"alpha_class_0\": None, # row 0 is multiplied by lam\n",
    "                    \"alpha_class_1\": None,\n",
    "                    \"image_0\": None,\n",
    "                    \"image_1\":None,\n",
    "                    \"mixup_image\": image,\n",
    "                    \"type\":\"orig\",\n",
    "                    \"label\":label,\n",
    "                    \"argmax_pred\":pred,\n",
    "                    })])\n",
    "    muba_df = pd.concat([muba_df, row],axis=0, ignore_index=True)"
   ]
  },
  {
   "cell_type": "code",
   "execution_count": null,
   "metadata": {},
   "outputs": [],
   "source": [
    "all_images = muba_df[\"mixup_image\"]\n",
    "all_final_layers = np.concatenate([muba_final_layers,boundary_final_layers, final_layers])"
   ]
  },
  {
   "cell_type": "markdown",
   "metadata": {},
   "source": [
    "Find projections"
   ]
  },
  {
   "cell_type": "code",
   "execution_count": null,
   "metadata": {},
   "outputs": [],
   "source": [
    "muba_projections = TSNE(2,random_state=1).fit_transform(all_final_layers ) # 1, "
   ]
  },
  {
   "cell_type": "code",
   "execution_count": null,
   "metadata": {},
   "outputs": [],
   "source": [
    "muba_df[\"projection_x\"] = [x[0] for x in muba_projections]\n",
    "muba_df[\"projection_y\"] = [x[1] for x in muba_projections]"
   ]
  },
  {
   "cell_type": "markdown",
   "metadata": {},
   "source": [
    "Filter dataframe"
   ]
  },
  {
   "cell_type": "code",
   "execution_count": null,
   "metadata": {},
   "outputs": [],
   "source": [
    "true_images_df = muba_df[muba_df[\"type\"] == \"orig\"]\n",
    "mixup_images_df =  muba_df[muba_df[\"type\"] == \"mix\"]\n",
    "boundary_images_df = muba_df[muba_df[\"type\"] == \"boundary\"]"
   ]
  },
  {
   "cell_type": "code",
   "execution_count": null,
   "metadata": {},
   "outputs": [],
   "source": [
    "min_alpha = []\n",
    "for i, row in mixup_images_df.iterrows():\n",
    "    if row[\"alpha_class_0\"] < row[\"alpha_class_1\"]:\n",
    "        min_alpha.append(row[\"alpha_class_0\"])\n",
    "    else:\n",
    "        min_alpha.append(row[\"alpha_class_1\"])\n",
    "\n",
    "mixup_images_df[\"min_alpha\"] = min_alpha"
   ]
  },
  {
   "cell_type": "code",
   "execution_count": null,
   "metadata": {},
   "outputs": [],
   "source": [
    "true_class_A = true_images_df[true_images_df[\"label\"] == 0]\n",
    "true_class_B = true_images_df[true_images_df[\"label\"] == 1]\n",
    "\n",
    "mixup_class_A = mixup_images_df[mixup_images_df[\"label\"] == 0]\n",
    "mixup_class_B = mixup_images_df[mixup_images_df[\"label\"] == 1]\n",
    "\n",
    "true_errors = true_images_df[true_images_df[\"label\"] != true_images_df[\"argmax_pred\"]]\n",
    "mixup_errors = mixup_images_df[mixup_images_df[\"label\"] != mixup_images_df[\"argmax_pred\"]]\n",
    "\n",
    "error_free_true_class_A = true_class_A[true_class_A[\"label\"] == true_class_A[\"argmax_pred\"]]\n",
    "error_free_true_class_B = true_class_B[true_class_B[\"label\"] == true_class_B[\"argmax_pred\"]]\n",
    "error_free_mixup_class_A = mixup_class_A[mixup_class_A[\"label\"] == mixup_class_A[\"argmax_pred\"]]\n",
    "error_free_mixup_class_B = mixup_class_B[mixup_class_B[\"label\"] == mixup_class_B[\"argmax_pred\"]]\n"
   ]
  },
  {
   "cell_type": "markdown",
   "metadata": {},
   "source": [
    "Plot Projections"
   ]
  },
  {
   "cell_type": "code",
   "execution_count": null,
   "metadata": {},
   "outputs": [],
   "source": [
    "def plot_projections(colour_by_alpha: bool = True,\n",
    "                     include_errors: bool = True,\n",
    "                     outline_errors: bool = True,\n",
    "                     show_boundary_points: bool = True,\n",
    "                     scale_errors: bool = False,\n",
    "                     colour_boundaries_by_alpha: bool = False\n",
    "                     ):\n",
    "    \n",
    "    a=None\n",
    "    fig, ax = plt.subplots(figsize=(14, 10))\n",
    "\n",
    "    # Combine two colour maps\n",
    "    colors1 = plt.cm.Reds_r(np.linspace(0., 1, 128))\n",
    "    colors2 = plt.cm.Blues(np.linspace(0, 1, 128))\n",
    "\n",
    "    # Build a new colormap\n",
    "    colors = np.vstack((colors1, colors2))\n",
    "    mymap = mcolors.LinearSegmentedColormap.from_list('my_colormap', colors)\n",
    "\n",
    "    # Plot mixup points\n",
    "    if colour_by_alpha:\n",
    "        ax.scatter(error_free_mixup_class_A[\"projection_x\"],error_free_mixup_class_A[\"projection_y\"],marker=\"o\",s=10,c = error_free_mixup_class_A[\"alpha_class_0\"],cmap = \"Reds\",vmin=0.5,vmax=1)\n",
    "        ax.scatter(error_free_mixup_class_B[\"projection_x\"],error_free_mixup_class_B[\"projection_y\"],marker=\"o\",s=10,c = error_free_mixup_class_B[\"alpha_class_0\"],cmap = \"Blues_r\", label = \"Mix-up\",vmin=0,vmax=0.5)\n",
    "\n",
    "    # Plot mixup errors\n",
    "    if include_errors:\n",
    "\n",
    "        if colour_by_alpha:\n",
    "            ax.scatter(mixup_errors[\"projection_x\"],mixup_errors[\"projection_y\"],marker=\"o\",s = (mixup_errors[\"min_alpha\"]*7)**4 if scale_errors else 10 ,c = mixup_errors[\"alpha_class_0\"],cmap = mymap, edgecolors=\"black\",label=\"Mix-up Incorrect Prediction\",vmin=0,vmax=1)\n",
    "        elif not colour_by_alpha:\n",
    "            ax.scatter(mixup_class_A[\"projection_x\"],mixup_class_A[\"projection_y\"],marker=\"o\",s=10,color = \"salmon\",label=\"Mix-up Class A\")\n",
    "            ax.scatter(mixup_class_B[\"projection_x\"],mixup_class_B[\"projection_y\"],marker=\"o\",s=10,color = \"deepskyblue\",label=\"Mix-up Class B\")\n",
    "            ax.scatter(mixup_errors[\"projection_x\"],mixup_errors[\"projection_y\"],marker=\"o\",s=10,color=\"None\",edgecolors = \"black\" if outline_errors else None,label=\"Mix-up Incorrect Prediction\")\n",
    "    \n",
    "    elif not include_errors:\n",
    "        if not colour_by_alpha:\n",
    "            ax.scatter(error_free_mixup_class_A[\"projection_x\"],error_free_mixup_class_A[\"projection_y\"],marker=\"o\",s=10,color = \"salmon\",label=\"Mix-up Class A\")\n",
    "            ax.scatter(error_free_mixup_class_B[\"projection_x\"],error_free_mixup_class_B[\"projection_y\"],marker=\"o\",s=10,color = \"deepskyblue\",label=\"Mix-up Class B\")\n",
    "\n",
    "    # Plot normal points\n",
    "    ax.scatter(true_class_A[\"projection_x\"],true_class_A[\"projection_y\"],marker=\"^\",s=50,color=\"red\",label=\"True Class A\")\n",
    "    ax.scatter(true_class_B[\"projection_x\"],true_class_B[\"projection_y\"],marker=\"^\",s=50,color=\"blue\",label=\"True Class B\")\n",
    "    ax.scatter(true_errors[\"projection_x\"],true_errors[\"projection_y\"],marker=\"^\",s=50,color=\"None\",edgecolors = \"black\",label=\"Incorrect Prediction\",)\n",
    "\n",
    "    if show_boundary_points:\n",
    "        ax.scatter(boundary_images_df[\"projection_x\"],boundary_images_df[\"projection_y\"],marker=\"o\",s=20,c=\"green\" if not colour_boundaries_by_alpha else boundary_images_df[\"alpha_class_0\"],cmap = mymap if colour_boundaries_by_alpha else None, vmin = 0, vmax = 1 ,label=\"Boundary Points\", edgecolors = \"black\" if colour_boundaries_by_alpha else None)\n",
    "    \n",
    "    ax.legend()\n",
    "\n",
    "    ax.set_title(\"t-SNE Dimension Analysis\")\n",
    "\n",
    "    if colour_by_alpha or colour_boundaries_by_alpha or include_errors:\n",
    "        a = ax.scatter([0,1],[0,1],s=0,vmin=0,vmax=1,c=[0,1],cmap=mymap)\n",
    "        plt.colorbar(a,label = \"Class A Alpha Value\")\n",
    "    \n",
    "\n",
    "    plt.show()"
   ]
  },
  {
   "cell_type": "code",
   "execution_count": null,
   "metadata": {},
   "outputs": [],
   "source": [
    "\"\"\"(colour_by_alpha: bool = True,\n",
    "        include_errors: bool = True,\n",
    "        outline_errors: bool = True,\n",
    "        show_boundary_points: bool = True,\n",
    "        scale_errors: bool = False,\n",
    "        colour_boundaries_by_alpha: bool = False\n",
    "                     ):\n",
    "    \"\"\"\n",
    "# plot_projections(True,True,False,True,False)\n",
    "# plot_projections(False,True,False,True,False)\n",
    "# plot_projections(True,True,True,True,False)\n",
    "# plot_projections(False,False,False,False,False)\n",
    "plot_projections(False,True,True,True,False,False)"
   ]
  },
  {
   "cell_type": "code",
   "execution_count": null,
   "metadata": {},
   "outputs": [],
   "source": [
    "from sklearn.metrics import confusion_matrix\n",
    "import seaborn as sn\n",
    "\n",
    "fig, axs = plt.subplots(1,2, figsize = (10,5))\n",
    "cm_muba = confusion_matrix([x for x in mixup_images_df[\"label\"]],[y for y in mixup_images_df[\"argmax_pred\"]])\n",
    "cm_test = confusion_matrix([x for x in true_images_df[\"label\"]],[y for y in true_images_df[\"argmax_pred\"]])\n",
    "\n",
    "cm_muba_display = ConfusionMatrixDisplay(confusion_matrix = cm_muba, display_labels=[\"A\",\"B\"])\n",
    "cm_test_display = ConfusionMatrixDisplay(confusion_matrix = cm_test, display_labels=[\"A\",\"B\"])\n",
    "\n",
    "cm_muba_display.plot(ax = axs[0])\n",
    "cm_test_display.plot(ax = axs[1])\n",
    "\n",
    "axs[0].set_title(\"MUBA Data\")\n",
    "axs[1].set_title(\"Test Data\")\n",
    "\n"
   ]
  },
  {
   "cell_type": "code",
   "execution_count": null,
   "metadata": {},
   "outputs": [],
   "source": [
    "plt.hist(mixup_errors[\"alpha_class_1\"],20,)"
   ]
  }
 ],
 "metadata": {
  "kernelspec": {
   "display_name": "Python 3",
   "language": "python",
   "name": "python3"
  },
  "language_info": {
   "codemirror_mode": {
    "name": "ipython",
    "version": 3
   },
   "file_extension": ".py",
   "mimetype": "text/x-python",
   "name": "python",
   "nbconvert_exporter": "python",
   "pygments_lexer": "ipython3",
   "version": "3.11.3"
  }
 },
 "nbformat": 4,
 "nbformat_minor": 2
}
